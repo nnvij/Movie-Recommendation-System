{
 "cells": [
  {
   "cell_type": "markdown",
   "id": "e3aa5d44",
   "metadata": {},
   "source": [
    "<center>\n",
    "  <h1 align=\"center\"> Movie Recommender System </h1>\n",
    "</center>"
   ]
  },
  {
   "cell_type": "markdown",
   "id": "dacaf27e",
   "metadata": {},
   "source": [
    "- A movie recommendation system is an automated system that can suggest movies to users based on their preferences. \n",
    "- The system uses an algorithm to analyze user data such as past movie ratings, genre preferences, and other related criteria to provide personalized movie recommendations. \n",
    "- The system can also provide general recommendations for users who don't have any past data or preferences. "
   ]
  },
  {
   "cell_type": "markdown",
   "id": "180c6492",
   "metadata": {},
   "source": [
    "## Import"
   ]
  },
  {
   "cell_type": "code",
   "execution_count": 10,
   "id": "92889ae4",
   "metadata": {},
   "outputs": [
    {
     "name": "stdout",
     "output_type": "stream",
     "text": [
      "\n",
      "Note: you may need to restart the kernel to use updated packages.\n"
     ]
    }
   ],
   "source": [
    "conda install -c conda-forge scikit-surprise"
   ]
  },
  {
   "cell_type": "code",
   "execution_count": 1,
   "id": "ba8b2a56",
   "metadata": {},
   "outputs": [],
   "source": [
    "import pandas as pd\n",
    "import numpy as np\n",
    "\n",
    "from scipy import stats\n",
    "import random\n",
    "\n",
    "from wordcloud import WordCloud\n",
    "from sklearn.feature_extraction.text import TfidfVectorizer, CountVectorizer\n",
    "from sklearn.metrics.pairwise import linear_kernel,cosine_similarity\n",
    "\n",
    "from surprise import Reader, Dataset, SVD,accuracy\n",
    "from surprise.model_selection import GridSearchCV\n",
    "\n",
    "import random\n",
    "\n",
    "\n",
    "import warnings \n",
    "warnings.filterwarnings(\"ignore\")"
   ]
  },
  {
   "cell_type": "markdown",
   "id": "0fc26ceb",
   "metadata": {},
   "source": [
    "## Data Loading\n",
    "- source https://grouplens.org/datasets/movielens/"
   ]
  },
  {
   "cell_type": "code",
   "execution_count": 2,
   "id": "14912bcd",
   "metadata": {},
   "outputs": [],
   "source": [
    "Rating = pd.read_csv('C:/Users/vijay/OneDrive/Desktop/Datascience/Wecareer/Portfolio/Portfolio/Movie recomendation/ratings.csv')\n",
    "Movies = pd.read_csv('C:/Users/vijay/OneDrive/Desktop/Datascience/Wecareer/Portfolio/Portfolio/Movie recomendation/movies.csv')\n",
    "Tags = pd.read_csv('C:/Users/vijay/OneDrive/Desktop/Datascience/Wecareer/Portfolio/Portfolio/Movie recomendation/tags.csv')"
   ]
  },
  {
   "cell_type": "code",
   "execution_count": 4,
   "id": "4add0df2",
   "metadata": {},
   "outputs": [],
   "source": [
    "Rating = pd.read_csv('/Movie recomendation/ratings.csv')\n",
    "Movies = pd.read_csv('/Movie recomendation/movies.csv')\n",
    "Tags = pd.read_csv('/Movie recomendation/tags.csv')"
   ]
  },
  {
   "cell_type": "markdown",
   "id": "87d0dab1",
   "metadata": {},
   "source": [
    "## EDA"
   ]
  },
  {
   "cell_type": "code",
   "execution_count": 3,
   "id": "7c03a90b",
   "metadata": {},
   "outputs": [
    {
     "data": {
      "text/html": [
       "<div>\n",
       "<style scoped>\n",
       "    .dataframe tbody tr th:only-of-type {\n",
       "        vertical-align: middle;\n",
       "    }\n",
       "\n",
       "    .dataframe tbody tr th {\n",
       "        vertical-align: top;\n",
       "    }\n",
       "\n",
       "    .dataframe thead th {\n",
       "        text-align: right;\n",
       "    }\n",
       "</style>\n",
       "<table border=\"1\" class=\"dataframe\">\n",
       "  <thead>\n",
       "    <tr style=\"text-align: right;\">\n",
       "      <th></th>\n",
       "      <th>movieId</th>\n",
       "      <th>title</th>\n",
       "      <th>genres</th>\n",
       "    </tr>\n",
       "  </thead>\n",
       "  <tbody>\n",
       "    <tr>\n",
       "      <th>0</th>\n",
       "      <td>1</td>\n",
       "      <td>Toy Story (1995)</td>\n",
       "      <td>Adventure|Animation|Children|Comedy|Fantasy</td>\n",
       "    </tr>\n",
       "    <tr>\n",
       "      <th>1</th>\n",
       "      <td>2</td>\n",
       "      <td>Jumanji (1995)</td>\n",
       "      <td>Adventure|Children|Fantasy</td>\n",
       "    </tr>\n",
       "    <tr>\n",
       "      <th>2</th>\n",
       "      <td>3</td>\n",
       "      <td>Grumpier Old Men (1995)</td>\n",
       "      <td>Comedy|Romance</td>\n",
       "    </tr>\n",
       "    <tr>\n",
       "      <th>3</th>\n",
       "      <td>4</td>\n",
       "      <td>Waiting to Exhale (1995)</td>\n",
       "      <td>Comedy|Drama|Romance</td>\n",
       "    </tr>\n",
       "    <tr>\n",
       "      <th>4</th>\n",
       "      <td>5</td>\n",
       "      <td>Father of the Bride Part II (1995)</td>\n",
       "      <td>Comedy</td>\n",
       "    </tr>\n",
       "  </tbody>\n",
       "</table>\n",
       "</div>"
      ],
      "text/plain": [
       "   movieId                               title  \\\n",
       "0        1                    Toy Story (1995)   \n",
       "1        2                      Jumanji (1995)   \n",
       "2        3             Grumpier Old Men (1995)   \n",
       "3        4            Waiting to Exhale (1995)   \n",
       "4        5  Father of the Bride Part II (1995)   \n",
       "\n",
       "                                        genres  \n",
       "0  Adventure|Animation|Children|Comedy|Fantasy  \n",
       "1                   Adventure|Children|Fantasy  \n",
       "2                               Comedy|Romance  \n",
       "3                         Comedy|Drama|Romance  \n",
       "4                                       Comedy  "
      ]
     },
     "execution_count": 3,
     "metadata": {},
     "output_type": "execute_result"
    }
   ],
   "source": [
    "Movies.head(5)"
   ]
  },
  {
   "cell_type": "code",
   "execution_count": 4,
   "id": "0786fda9",
   "metadata": {},
   "outputs": [
    {
     "data": {
      "text/html": [
       "<div>\n",
       "<style scoped>\n",
       "    .dataframe tbody tr th:only-of-type {\n",
       "        vertical-align: middle;\n",
       "    }\n",
       "\n",
       "    .dataframe tbody tr th {\n",
       "        vertical-align: top;\n",
       "    }\n",
       "\n",
       "    .dataframe thead th {\n",
       "        text-align: right;\n",
       "    }\n",
       "</style>\n",
       "<table border=\"1\" class=\"dataframe\">\n",
       "  <thead>\n",
       "    <tr style=\"text-align: right;\">\n",
       "      <th></th>\n",
       "      <th>userId</th>\n",
       "      <th>movieId</th>\n",
       "      <th>rating</th>\n",
       "      <th>timestamp</th>\n",
       "    </tr>\n",
       "  </thead>\n",
       "  <tbody>\n",
       "    <tr>\n",
       "      <th>0</th>\n",
       "      <td>1</td>\n",
       "      <td>1</td>\n",
       "      <td>4.0</td>\n",
       "      <td>964982703</td>\n",
       "    </tr>\n",
       "    <tr>\n",
       "      <th>1</th>\n",
       "      <td>1</td>\n",
       "      <td>3</td>\n",
       "      <td>4.0</td>\n",
       "      <td>964981247</td>\n",
       "    </tr>\n",
       "    <tr>\n",
       "      <th>2</th>\n",
       "      <td>1</td>\n",
       "      <td>6</td>\n",
       "      <td>4.0</td>\n",
       "      <td>964982224</td>\n",
       "    </tr>\n",
       "    <tr>\n",
       "      <th>3</th>\n",
       "      <td>1</td>\n",
       "      <td>47</td>\n",
       "      <td>5.0</td>\n",
       "      <td>964983815</td>\n",
       "    </tr>\n",
       "    <tr>\n",
       "      <th>4</th>\n",
       "      <td>1</td>\n",
       "      <td>50</td>\n",
       "      <td>5.0</td>\n",
       "      <td>964982931</td>\n",
       "    </tr>\n",
       "  </tbody>\n",
       "</table>\n",
       "</div>"
      ],
      "text/plain": [
       "   userId  movieId  rating  timestamp\n",
       "0       1        1     4.0  964982703\n",
       "1       1        3     4.0  964981247\n",
       "2       1        6     4.0  964982224\n",
       "3       1       47     5.0  964983815\n",
       "4       1       50     5.0  964982931"
      ]
     },
     "execution_count": 4,
     "metadata": {},
     "output_type": "execute_result"
    }
   ],
   "source": [
    "Rating.head(5)"
   ]
  },
  {
   "cell_type": "code",
   "execution_count": 5,
   "id": "2358a3d3",
   "metadata": {},
   "outputs": [
    {
     "data": {
      "text/html": [
       "<div>\n",
       "<style scoped>\n",
       "    .dataframe tbody tr th:only-of-type {\n",
       "        vertical-align: middle;\n",
       "    }\n",
       "\n",
       "    .dataframe tbody tr th {\n",
       "        vertical-align: top;\n",
       "    }\n",
       "\n",
       "    .dataframe thead th {\n",
       "        text-align: right;\n",
       "    }\n",
       "</style>\n",
       "<table border=\"1\" class=\"dataframe\">\n",
       "  <thead>\n",
       "    <tr style=\"text-align: right;\">\n",
       "      <th></th>\n",
       "      <th>userId</th>\n",
       "      <th>movieId</th>\n",
       "      <th>tag</th>\n",
       "      <th>timestamp</th>\n",
       "    </tr>\n",
       "  </thead>\n",
       "  <tbody>\n",
       "    <tr>\n",
       "      <th>0</th>\n",
       "      <td>2</td>\n",
       "      <td>60756</td>\n",
       "      <td>funny</td>\n",
       "      <td>1445714994</td>\n",
       "    </tr>\n",
       "    <tr>\n",
       "      <th>1</th>\n",
       "      <td>2</td>\n",
       "      <td>60756</td>\n",
       "      <td>Highly quotable</td>\n",
       "      <td>1445714996</td>\n",
       "    </tr>\n",
       "    <tr>\n",
       "      <th>2</th>\n",
       "      <td>2</td>\n",
       "      <td>60756</td>\n",
       "      <td>will ferrell</td>\n",
       "      <td>1445714992</td>\n",
       "    </tr>\n",
       "    <tr>\n",
       "      <th>3</th>\n",
       "      <td>2</td>\n",
       "      <td>89774</td>\n",
       "      <td>Boxing story</td>\n",
       "      <td>1445715207</td>\n",
       "    </tr>\n",
       "    <tr>\n",
       "      <th>4</th>\n",
       "      <td>2</td>\n",
       "      <td>89774</td>\n",
       "      <td>MMA</td>\n",
       "      <td>1445715200</td>\n",
       "    </tr>\n",
       "  </tbody>\n",
       "</table>\n",
       "</div>"
      ],
      "text/plain": [
       "   userId  movieId              tag   timestamp\n",
       "0       2    60756            funny  1445714994\n",
       "1       2    60756  Highly quotable  1445714996\n",
       "2       2    60756     will ferrell  1445714992\n",
       "3       2    89774     Boxing story  1445715207\n",
       "4       2    89774              MMA  1445715200"
      ]
     },
     "execution_count": 5,
     "metadata": {},
     "output_type": "execute_result"
    }
   ],
   "source": [
    "Tags.head(5)"
   ]
  },
  {
   "cell_type": "code",
   "execution_count": 6,
   "id": "68719025",
   "metadata": {
    "scrolled": true
   },
   "outputs": [
    {
     "data": {
      "text/plain": [
       "296     181\n",
       "2959     54\n",
       "924      41\n",
       "293      35\n",
       "7361     34\n",
       "       ... \n",
       "3307      1\n",
       "3310      1\n",
       "3317      1\n",
       "830       1\n",
       "2719      1\n",
       "Name: movieId, Length: 1572, dtype: int64"
      ]
     },
     "execution_count": 6,
     "metadata": {},
     "output_type": "execute_result"
    }
   ],
   "source": [
    "Tags['movieId'].value_counts(ascending=False)"
   ]
  },
  {
   "cell_type": "markdown",
   "id": "6fddcc62",
   "metadata": {},
   "source": [
    "### Check Null values"
   ]
  },
  {
   "cell_type": "code",
   "execution_count": 7,
   "id": "5267037d",
   "metadata": {},
   "outputs": [
    {
     "name": "stdout",
     "output_type": "stream",
     "text": [
      "Movies:\n",
      " movieId    0\n",
      "title      0\n",
      "genres     0\n",
      "dtype: int64\n",
      "Rating:\n",
      " userId       0\n",
      "movieId      0\n",
      "rating       0\n",
      "timestamp    0\n",
      "dtype: int64\n",
      "Tags:\n",
      " userId       0\n",
      "movieId      0\n",
      "tag          0\n",
      "timestamp    0\n",
      "dtype: int64\n"
     ]
    }
   ],
   "source": [
    "print('Movies:\\n',Movies.isnull().sum())\n",
    "print('Rating:\\n',Rating.isnull().sum())\n",
    "print('Tags:\\n',Tags.isnull().sum())"
   ]
  },
  {
   "cell_type": "markdown",
   "id": "8188cd89",
   "metadata": {},
   "source": [
    "### Merge tables"
   ]
  },
  {
   "cell_type": "code",
   "execution_count": 8,
   "id": "ddd4f216",
   "metadata": {},
   "outputs": [
    {
     "name": "stdout",
     "output_type": "stream",
     "text": [
      "Movies: (9742, 3)\n",
      "Rating: (100836, 4)\n",
      "Tags: (3683, 4)\n"
     ]
    }
   ],
   "source": [
    "print('Movies:',Movies.shape)\n",
    "print('Rating:',Rating.shape)\n",
    "print('Tags:',Tags.shape)"
   ]
  },
  {
   "cell_type": "markdown",
   "id": "6d2798b5",
   "metadata": {},
   "source": [
    "#### Groupby movie_id and mean ratings"
   ]
  },
  {
   "cell_type": "code",
   "execution_count": 9,
   "id": "9669de8c",
   "metadata": {
    "scrolled": true
   },
   "outputs": [
    {
     "data": {
      "text/html": [
       "<div>\n",
       "<style scoped>\n",
       "    .dataframe tbody tr th:only-of-type {\n",
       "        vertical-align: middle;\n",
       "    }\n",
       "\n",
       "    .dataframe tbody tr th {\n",
       "        vertical-align: top;\n",
       "    }\n",
       "\n",
       "    .dataframe thead th {\n",
       "        text-align: right;\n",
       "    }\n",
       "</style>\n",
       "<table border=\"1\" class=\"dataframe\">\n",
       "  <thead>\n",
       "    <tr style=\"text-align: right;\">\n",
       "      <th></th>\n",
       "      <th>movieId</th>\n",
       "      <th>rating</th>\n",
       "    </tr>\n",
       "  </thead>\n",
       "  <tbody>\n",
       "    <tr>\n",
       "      <th>0</th>\n",
       "      <td>1</td>\n",
       "      <td>3.920930</td>\n",
       "    </tr>\n",
       "    <tr>\n",
       "      <th>1</th>\n",
       "      <td>2</td>\n",
       "      <td>3.431818</td>\n",
       "    </tr>\n",
       "    <tr>\n",
       "      <th>2</th>\n",
       "      <td>3</td>\n",
       "      <td>3.259615</td>\n",
       "    </tr>\n",
       "    <tr>\n",
       "      <th>3</th>\n",
       "      <td>4</td>\n",
       "      <td>2.357143</td>\n",
       "    </tr>\n",
       "    <tr>\n",
       "      <th>4</th>\n",
       "      <td>5</td>\n",
       "      <td>3.071429</td>\n",
       "    </tr>\n",
       "  </tbody>\n",
       "</table>\n",
       "</div>"
      ],
      "text/plain": [
       "   movieId    rating\n",
       "0        1  3.920930\n",
       "1        2  3.431818\n",
       "2        3  3.259615\n",
       "3        4  2.357143\n",
       "4        5  3.071429"
      ]
     },
     "execution_count": 9,
     "metadata": {},
     "output_type": "execute_result"
    }
   ],
   "source": [
    "rating_df = Rating.groupby(by='movieId',as_index=False).agg({'rating':'mean'})\n",
    "rating_df.head(5)"
   ]
  },
  {
   "cell_type": "code",
   "execution_count": 10,
   "id": "cc3172f5",
   "metadata": {},
   "outputs": [
    {
     "data": {
      "text/plain": [
       "(9724, 2)"
      ]
     },
     "execution_count": 10,
     "metadata": {},
     "output_type": "execute_result"
    }
   ],
   "source": [
    "rating_df.shape"
   ]
  },
  {
   "cell_type": "markdown",
   "id": "113ff3a4",
   "metadata": {},
   "source": [
    "#### Merge table ratings and movies"
   ]
  },
  {
   "cell_type": "code",
   "execution_count": 11,
   "id": "c7c1cdee",
   "metadata": {},
   "outputs": [
    {
     "data": {
      "text/html": [
       "<div>\n",
       "<style scoped>\n",
       "    .dataframe tbody tr th:only-of-type {\n",
       "        vertical-align: middle;\n",
       "    }\n",
       "\n",
       "    .dataframe tbody tr th {\n",
       "        vertical-align: top;\n",
       "    }\n",
       "\n",
       "    .dataframe thead th {\n",
       "        text-align: right;\n",
       "    }\n",
       "</style>\n",
       "<table border=\"1\" class=\"dataframe\">\n",
       "  <thead>\n",
       "    <tr style=\"text-align: right;\">\n",
       "      <th></th>\n",
       "      <th>movieId</th>\n",
       "      <th>rating</th>\n",
       "      <th>title</th>\n",
       "      <th>genres</th>\n",
       "    </tr>\n",
       "  </thead>\n",
       "  <tbody>\n",
       "    <tr>\n",
       "      <th>0</th>\n",
       "      <td>1</td>\n",
       "      <td>3.920930</td>\n",
       "      <td>Toy Story (1995)</td>\n",
       "      <td>Adventure|Animation|Children|Comedy|Fantasy</td>\n",
       "    </tr>\n",
       "    <tr>\n",
       "      <th>1</th>\n",
       "      <td>2</td>\n",
       "      <td>3.431818</td>\n",
       "      <td>Jumanji (1995)</td>\n",
       "      <td>Adventure|Children|Fantasy</td>\n",
       "    </tr>\n",
       "    <tr>\n",
       "      <th>2</th>\n",
       "      <td>3</td>\n",
       "      <td>3.259615</td>\n",
       "      <td>Grumpier Old Men (1995)</td>\n",
       "      <td>Comedy|Romance</td>\n",
       "    </tr>\n",
       "    <tr>\n",
       "      <th>3</th>\n",
       "      <td>4</td>\n",
       "      <td>2.357143</td>\n",
       "      <td>Waiting to Exhale (1995)</td>\n",
       "      <td>Comedy|Drama|Romance</td>\n",
       "    </tr>\n",
       "    <tr>\n",
       "      <th>4</th>\n",
       "      <td>5</td>\n",
       "      <td>3.071429</td>\n",
       "      <td>Father of the Bride Part II (1995)</td>\n",
       "      <td>Comedy</td>\n",
       "    </tr>\n",
       "  </tbody>\n",
       "</table>\n",
       "</div>"
      ],
      "text/plain": [
       "   movieId    rating                               title  \\\n",
       "0        1  3.920930                    Toy Story (1995)   \n",
       "1        2  3.431818                      Jumanji (1995)   \n",
       "2        3  3.259615             Grumpier Old Men (1995)   \n",
       "3        4  2.357143            Waiting to Exhale (1995)   \n",
       "4        5  3.071429  Father of the Bride Part II (1995)   \n",
       "\n",
       "                                        genres  \n",
       "0  Adventure|Animation|Children|Comedy|Fantasy  \n",
       "1                   Adventure|Children|Fantasy  \n",
       "2                               Comedy|Romance  \n",
       "3                         Comedy|Drama|Romance  \n",
       "4                                       Comedy  "
      ]
     },
     "execution_count": 11,
     "metadata": {},
     "output_type": "execute_result"
    }
   ],
   "source": [
    "movies_df = pd.merge(rating_df, Movies, how='left',on='movieId')\n",
    "movies_df.head(5)"
   ]
  },
  {
   "cell_type": "markdown",
   "id": "58193fb2",
   "metadata": {},
   "source": [
    "## Content based recommendation system\n",
    "- Content-based methods are based on the similarity of movie attributes. Using this type of recommender system, if a user watches one movie, similar movies are recommended.\n",
    "- Creating a content based recommender system based on Movie genre and Movie Tag."
   ]
  },
  {
   "cell_type": "markdown",
   "id": "0a4505f8",
   "metadata": {},
   "source": [
    "#### Genre"
   ]
  },
  {
   "cell_type": "code",
   "execution_count": 21,
   "id": "2f8dc0d1",
   "metadata": {},
   "outputs": [],
   "source": [
    "#Define a TF-IDF Vectorizer Object\n",
    "tfidf = TfidfVectorizer()\n",
    "#Construct the required TF-IDF matrix by fitting and transforming the data\n",
    "tfidf_matrix = tfidf.fit_transform(movies_df['genres'])\n",
    "# Compute the cosine similarity matrix\n",
    "cos_similarity = linear_kernel(tfidf_matrix, tfidf_matrix)\n",
    "indices=pd.Series(movies_df.index,index=movies_df['title'])\n",
    "\n",
    "titles=movies_df['title']\n",
    "\n"
   ]
  },
  {
   "cell_type": "code",
   "execution_count": 23,
   "id": "538554d5",
   "metadata": {},
   "outputs": [
    {
     "data": {
      "text/plain": [
       "(9724,)"
      ]
     },
     "execution_count": 23,
     "metadata": {},
     "output_type": "execute_result"
    }
   ],
   "source": [
    "titles.shape"
   ]
  },
  {
   "cell_type": "code",
   "execution_count": 27,
   "id": "a8644b1c",
   "metadata": {},
   "outputs": [
    {
     "data": {
      "text/plain": [
       "0                                Toy Story (1995)\n",
       "1                                  Jumanji (1995)\n",
       "2                         Grumpier Old Men (1995)\n",
       "3                        Waiting to Exhale (1995)\n",
       "4              Father of the Bride Part II (1995)\n",
       "                          ...                    \n",
       "9719    Black Butler: Book of the Atlantic (2017)\n",
       "9720                 No Game No Life: Zero (2017)\n",
       "9721                                 Flint (2017)\n",
       "9722          Bungo Stray Dogs: Dead Apple (2018)\n",
       "9723          Andrew Dice Clay: Dice Rules (1991)\n",
       "Name: title, Length: 9724, dtype: object"
      ]
     },
     "execution_count": 27,
     "metadata": {},
     "output_type": "execute_result"
    }
   ],
   "source": [
    "titles"
   ]
  },
  {
   "cell_type": "code",
   "execution_count": 25,
   "id": "50c5a0ea",
   "metadata": {},
   "outputs": [
    {
     "data": {
      "text/plain": [
       "(9724,)"
      ]
     },
     "execution_count": 25,
     "metadata": {},
     "output_type": "execute_result"
    }
   ],
   "source": [
    "indices.shape"
   ]
  },
  {
   "cell_type": "markdown",
   "id": "6276bf09",
   "metadata": {},
   "source": [
    "### Function movie_recommender:\n",
    "- takes as input the title of the movie for which we predict similar movie recommendation.\n",
    "- Find the index for the title and pick up the similarity score for that index.\n",
    "- We will then sort the score and return the top 10 movie titles with highest similarity score."
   ]
  },
  {
   "cell_type": "code",
   "execution_count": 26,
   "id": "1a5c8a15",
   "metadata": {},
   "outputs": [],
   "source": [
    "def movie_recommender(title):\n",
    "    # Get the index of the movie that matches the title\n",
    "    index = indices[title]\n",
    "    similarity_scores = list(enumerate(cos_similarity[index]))\n",
    "    # Sort the movies based on the similarity scores\n",
    "    similarity_scores = sorted(similarity_scores, key=lambda x: x[1], reverse=True)\n",
    "     # Get the scores of the 10 most similar movies\n",
    "    similarity_scores = similarity_scores[1:10]\n",
    "   \n",
    "    movie_indices = [i[0] for i in similarity_scores]\n",
    "    return titles.iloc[movie_indices]"
   ]
  },
  {
   "cell_type": "code",
   "execution_count": 29,
   "id": "45d6c8ac",
   "metadata": {},
   "outputs": [
    {
     "data": {
      "text/plain": [
       "2637                               American Psycho (2000)\n",
       "2960                Book of Shadows: Blair Witch 2 (2000)\n",
       "3549                                     From Hell (2001)\n",
       "4321                                      Identity (2003)\n",
       "4480                                  House of Wax (1953)\n",
       "5262    Testament of Dr. Mabuse, The (Das Testament de...\n",
       "6055    Bird with the Crystal Plumage, The (Uccello da...\n",
       "7156                                        Saw VI (2009)\n",
       "5635         American Psycho II: All American Girl (2002)\n",
       "Name: title, dtype: object"
      ]
     },
     "execution_count": 29,
     "metadata": {},
     "output_type": "execute_result"
    }
   ],
   "source": [
    "movie_recommender('Copycat (1995)')"
   ]
  },
  {
   "cell_type": "code",
   "execution_count": 31,
   "id": "2fa46218",
   "metadata": {},
   "outputs": [
    {
     "data": {
      "text/html": [
       "<div>\n",
       "<style scoped>\n",
       "    .dataframe tbody tr th:only-of-type {\n",
       "        vertical-align: middle;\n",
       "    }\n",
       "\n",
       "    .dataframe tbody tr th {\n",
       "        vertical-align: top;\n",
       "    }\n",
       "\n",
       "    .dataframe thead th {\n",
       "        text-align: right;\n",
       "    }\n",
       "</style>\n",
       "<table border=\"1\" class=\"dataframe\">\n",
       "  <thead>\n",
       "    <tr style=\"text-align: right;\">\n",
       "      <th></th>\n",
       "      <th>movieId</th>\n",
       "      <th>rating</th>\n",
       "      <th>title</th>\n",
       "      <th>genres</th>\n",
       "    </tr>\n",
       "  </thead>\n",
       "  <tbody>\n",
       "    <tr>\n",
       "      <th>21</th>\n",
       "      <td>22</td>\n",
       "      <td>3.222222</td>\n",
       "      <td>Copycat (1995)</td>\n",
       "      <td>Crime|Drama|Horror|Mystery|Thriller</td>\n",
       "    </tr>\n",
       "  </tbody>\n",
       "</table>\n",
       "</div>"
      ],
      "text/plain": [
       "    movieId    rating           title                               genres\n",
       "21       22  3.222222  Copycat (1995)  Crime|Drama|Horror|Mystery|Thriller"
      ]
     },
     "execution_count": 31,
     "metadata": {},
     "output_type": "execute_result"
    }
   ],
   "source": [
    "movies_df[movies_df['movieId']==22]"
   ]
  },
  {
   "cell_type": "code",
   "execution_count": 32,
   "id": "a6c9a3ab",
   "metadata": {},
   "outputs": [
    {
     "data": {
      "text/html": [
       "<div>\n",
       "<style scoped>\n",
       "    .dataframe tbody tr th:only-of-type {\n",
       "        vertical-align: middle;\n",
       "    }\n",
       "\n",
       "    .dataframe tbody tr th {\n",
       "        vertical-align: top;\n",
       "    }\n",
       "\n",
       "    .dataframe thead th {\n",
       "        text-align: right;\n",
       "    }\n",
       "</style>\n",
       "<table border=\"1\" class=\"dataframe\">\n",
       "  <thead>\n",
       "    <tr style=\"text-align: right;\">\n",
       "      <th></th>\n",
       "      <th>movieId</th>\n",
       "      <th>rating</th>\n",
       "      <th>title</th>\n",
       "      <th>genres</th>\n",
       "    </tr>\n",
       "  </thead>\n",
       "  <tbody>\n",
       "    <tr>\n",
       "      <th>2960</th>\n",
       "      <td>3973</td>\n",
       "      <td>1.125</td>\n",
       "      <td>Book of Shadows: Blair Witch 2 (2000)</td>\n",
       "      <td>Crime|Horror|Mystery|Thriller</td>\n",
       "    </tr>\n",
       "  </tbody>\n",
       "</table>\n",
       "</div>"
      ],
      "text/plain": [
       "      movieId  rating                                  title  \\\n",
       "2960     3973   1.125  Book of Shadows: Blair Witch 2 (2000)   \n",
       "\n",
       "                             genres  \n",
       "2960  Crime|Horror|Mystery|Thriller  "
      ]
     },
     "execution_count": 32,
     "metadata": {},
     "output_type": "execute_result"
    }
   ],
   "source": [
    "movies_df[movies_df['title']=='Book of Shadows: Blair Witch 2 (2000)']"
   ]
  },
  {
   "cell_type": "code",
   "execution_count": 33,
   "id": "16cb5b98",
   "metadata": {},
   "outputs": [
    {
     "data": {
      "text/html": [
       "<div>\n",
       "<style scoped>\n",
       "    .dataframe tbody tr th:only-of-type {\n",
       "        vertical-align: middle;\n",
       "    }\n",
       "\n",
       "    .dataframe tbody tr th {\n",
       "        vertical-align: top;\n",
       "    }\n",
       "\n",
       "    .dataframe thead th {\n",
       "        text-align: right;\n",
       "    }\n",
       "</style>\n",
       "<table border=\"1\" class=\"dataframe\">\n",
       "  <thead>\n",
       "    <tr style=\"text-align: right;\">\n",
       "      <th></th>\n",
       "      <th>movieId</th>\n",
       "      <th>rating</th>\n",
       "      <th>title</th>\n",
       "      <th>genres</th>\n",
       "    </tr>\n",
       "  </thead>\n",
       "  <tbody>\n",
       "    <tr>\n",
       "      <th>2637</th>\n",
       "      <td>3535</td>\n",
       "      <td>3.788136</td>\n",
       "      <td>American Psycho (2000)</td>\n",
       "      <td>Crime|Horror|Mystery|Thriller</td>\n",
       "    </tr>\n",
       "  </tbody>\n",
       "</table>\n",
       "</div>"
      ],
      "text/plain": [
       "      movieId    rating                   title                         genres\n",
       "2637     3535  3.788136  American Psycho (2000)  Crime|Horror|Mystery|Thriller"
      ]
     },
     "execution_count": 33,
     "metadata": {},
     "output_type": "execute_result"
    }
   ],
   "source": [
    "movies_df[movies_df['title']=='American Psycho (2000)']"
   ]
  },
  {
   "cell_type": "markdown",
   "id": "f2255dcb",
   "metadata": {},
   "source": [
    "### Tags"
   ]
  },
  {
   "cell_type": "code",
   "execution_count": 50,
   "id": "5e94d26d",
   "metadata": {},
   "outputs": [
    {
     "data": {
      "text/html": [
       "<div>\n",
       "<style scoped>\n",
       "    .dataframe tbody tr th:only-of-type {\n",
       "        vertical-align: middle;\n",
       "    }\n",
       "\n",
       "    .dataframe tbody tr th {\n",
       "        vertical-align: top;\n",
       "    }\n",
       "\n",
       "    .dataframe thead th {\n",
       "        text-align: right;\n",
       "    }\n",
       "</style>\n",
       "<table border=\"1\" class=\"dataframe\">\n",
       "  <thead>\n",
       "    <tr style=\"text-align: right;\">\n",
       "      <th></th>\n",
       "      <th>userId</th>\n",
       "      <th>movieId</th>\n",
       "      <th>tag</th>\n",
       "      <th>timestamp</th>\n",
       "      <th>title</th>\n",
       "      <th>genres</th>\n",
       "    </tr>\n",
       "  </thead>\n",
       "  <tbody>\n",
       "    <tr>\n",
       "      <th>0</th>\n",
       "      <td>2</td>\n",
       "      <td>60756</td>\n",
       "      <td>funny</td>\n",
       "      <td>1445714994</td>\n",
       "      <td>Step Brothers (2008)</td>\n",
       "      <td>Comedy</td>\n",
       "    </tr>\n",
       "    <tr>\n",
       "      <th>1</th>\n",
       "      <td>2</td>\n",
       "      <td>60756</td>\n",
       "      <td>Highly quotable</td>\n",
       "      <td>1445714996</td>\n",
       "      <td>Step Brothers (2008)</td>\n",
       "      <td>Comedy</td>\n",
       "    </tr>\n",
       "    <tr>\n",
       "      <th>2</th>\n",
       "      <td>2</td>\n",
       "      <td>60756</td>\n",
       "      <td>will ferrell</td>\n",
       "      <td>1445714992</td>\n",
       "      <td>Step Brothers (2008)</td>\n",
       "      <td>Comedy</td>\n",
       "    </tr>\n",
       "    <tr>\n",
       "      <th>3</th>\n",
       "      <td>2</td>\n",
       "      <td>89774</td>\n",
       "      <td>Boxing story</td>\n",
       "      <td>1445715207</td>\n",
       "      <td>Warrior (2011)</td>\n",
       "      <td>Drama</td>\n",
       "    </tr>\n",
       "    <tr>\n",
       "      <th>4</th>\n",
       "      <td>2</td>\n",
       "      <td>89774</td>\n",
       "      <td>MMA</td>\n",
       "      <td>1445715200</td>\n",
       "      <td>Warrior (2011)</td>\n",
       "      <td>Drama</td>\n",
       "    </tr>\n",
       "  </tbody>\n",
       "</table>\n",
       "</div>"
      ],
      "text/plain": [
       "   userId  movieId              tag   timestamp                 title  genres\n",
       "0       2    60756            funny  1445714994  Step Brothers (2008)  Comedy\n",
       "1       2    60756  Highly quotable  1445714996  Step Brothers (2008)  Comedy\n",
       "2       2    60756     will ferrell  1445714992  Step Brothers (2008)  Comedy\n",
       "3       2    89774     Boxing story  1445715207        Warrior (2011)   Drama\n",
       "4       2    89774              MMA  1445715200        Warrior (2011)   Drama"
      ]
     },
     "execution_count": 50,
     "metadata": {},
     "output_type": "execute_result"
    }
   ],
   "source": [
    "tags_df = pd.merge(Tags, Movies, how='left',on='movieId')\n",
    "tags_df.head(5)"
   ]
  },
  {
   "cell_type": "code",
   "execution_count": 51,
   "id": "6cc8969a",
   "metadata": {},
   "outputs": [
    {
     "data": {
      "text/plain": [
       "(3683, 6)"
      ]
     },
     "execution_count": 51,
     "metadata": {},
     "output_type": "execute_result"
    }
   ],
   "source": [
    "tags_df.shape"
   ]
  },
  {
   "cell_type": "code",
   "execution_count": 52,
   "id": "2526073d",
   "metadata": {},
   "outputs": [],
   "source": [
    "#Define a TF-IDF Vectorizer Object\n",
    "tfidf2 = TfidfVectorizer()\n",
    "\n",
    "#Construct the required TF-IDF matrix by fitting and transforming the data\n",
    "tfidf_matrix2 = tfidf2.fit_transform(tags_df['tag'])\n",
    "\n",
    "# Compute the cosine similarity matrix\n",
    "cos_similarity2 = linear_kernel(tfidf_matrix2, tfidf_matrix2)\n",
    "\n",
    "indices2 = pd.Series(tags_df.index,index=tags_df['title'])\n",
    "\n",
    "titles2 = tags_df['title']"
   ]
  },
  {
   "cell_type": "markdown",
   "id": "6ec016f3",
   "metadata": {},
   "source": [
    "### Function movie_recommender_tags:\n",
    "- takes as input the title of the movie for which we similar movie recommendation.\n",
    "- Find the index for the title and pick up the similarity score for that index.\n",
    "- We will then sort the score and return the top 10 movie titles with highest similarity score."
   ]
  },
  {
   "cell_type": "code",
   "execution_count": 53,
   "id": "25f38ea2",
   "metadata": {},
   "outputs": [],
   "source": [
    "def movie_recommender_tags(title):\n",
    "    index = indices2[title]\n",
    "    similarity_scores = list(enumerate(cos_similarity2[index]))\n",
    "    similarity_scores = sorted(similarity_scores, key=lambda x: x[1], reverse=True)\n",
    "    similarity_scores = similarity_scores[1:10]\n",
    "    movie_indices = [i[0] for i in similarity_scores]\n",
    "    return titles2.iloc[movie_indices]"
   ]
  },
  {
   "cell_type": "code",
   "execution_count": 54,
   "id": "9e415793",
   "metadata": {},
   "outputs": [
    {
     "data": {
      "text/plain": [
       "993                                        Copycat (1995)\n",
       "1015                          Seven (a.k.a. Se7en) (1995)\n",
       "1085                                    Virtuosity (1995)\n",
       "1377                                             M (1931)\n",
       "1890                                     Manhunter (1986)\n",
       "2259                                       Monster (2003)\n",
       "2962    Man Bites Dog (C'est arrivé près de chez vous)...\n",
       "423                                      John Wick (2014)\n",
       "3479                                  Pulp Fiction (1994)\n",
       "Name: title, dtype: object"
      ]
     },
     "execution_count": 54,
     "metadata": {},
     "output_type": "execute_result"
    }
   ],
   "source": [
    "movie_recommender_tags('Copycat (1995)')"
   ]
  },
  {
   "cell_type": "code",
   "execution_count": 59,
   "id": "f7aae347",
   "metadata": {},
   "outputs": [
    {
     "data": {
      "text/html": [
       "<div>\n",
       "<style scoped>\n",
       "    .dataframe tbody tr th:only-of-type {\n",
       "        vertical-align: middle;\n",
       "    }\n",
       "\n",
       "    .dataframe tbody tr th {\n",
       "        vertical-align: top;\n",
       "    }\n",
       "\n",
       "    .dataframe thead th {\n",
       "        text-align: right;\n",
       "    }\n",
       "</style>\n",
       "<table border=\"1\" class=\"dataframe\">\n",
       "  <thead>\n",
       "    <tr style=\"text-align: right;\">\n",
       "      <th></th>\n",
       "      <th>userId</th>\n",
       "      <th>movieId</th>\n",
       "      <th>tag</th>\n",
       "      <th>timestamp</th>\n",
       "      <th>title</th>\n",
       "      <th>genres</th>\n",
       "    </tr>\n",
       "  </thead>\n",
       "  <tbody>\n",
       "    <tr>\n",
       "      <th>993</th>\n",
       "      <td>474</td>\n",
       "      <td>22</td>\n",
       "      <td>serial killer</td>\n",
       "      <td>1137375496</td>\n",
       "      <td>Copycat (1995)</td>\n",
       "      <td>Crime|Drama|Horror|Mystery|Thriller</td>\n",
       "    </tr>\n",
       "  </tbody>\n",
       "</table>\n",
       "</div>"
      ],
      "text/plain": [
       "     userId  movieId            tag   timestamp           title  \\\n",
       "993     474       22  serial killer  1137375496  Copycat (1995)   \n",
       "\n",
       "                                  genres  \n",
       "993  Crime|Drama|Horror|Mystery|Thriller  "
      ]
     },
     "execution_count": 59,
     "metadata": {},
     "output_type": "execute_result"
    }
   ],
   "source": [
    "tags_df[tags_df['title'] == 'Copycat (1995)']"
   ]
  },
  {
   "cell_type": "code",
   "execution_count": 58,
   "id": "4a3b388c",
   "metadata": {},
   "outputs": [
    {
     "data": {
      "text/html": [
       "<div>\n",
       "<style scoped>\n",
       "    .dataframe tbody tr th:only-of-type {\n",
       "        vertical-align: middle;\n",
       "    }\n",
       "\n",
       "    .dataframe tbody tr th {\n",
       "        vertical-align: top;\n",
       "    }\n",
       "\n",
       "    .dataframe thead th {\n",
       "        text-align: right;\n",
       "    }\n",
       "</style>\n",
       "<table border=\"1\" class=\"dataframe\">\n",
       "  <thead>\n",
       "    <tr style=\"text-align: right;\">\n",
       "      <th></th>\n",
       "      <th>userId</th>\n",
       "      <th>movieId</th>\n",
       "      <th>tag</th>\n",
       "      <th>timestamp</th>\n",
       "      <th>title</th>\n",
       "      <th>genres</th>\n",
       "    </tr>\n",
       "  </thead>\n",
       "  <tbody>\n",
       "    <tr>\n",
       "      <th>697</th>\n",
       "      <td>424</td>\n",
       "      <td>47</td>\n",
       "      <td>mystery</td>\n",
       "      <td>1457842470</td>\n",
       "      <td>Seven (a.k.a. Se7en) (1995)</td>\n",
       "      <td>Mystery|Thriller</td>\n",
       "    </tr>\n",
       "    <tr>\n",
       "      <th>698</th>\n",
       "      <td>424</td>\n",
       "      <td>47</td>\n",
       "      <td>twist ending</td>\n",
       "      <td>1457842458</td>\n",
       "      <td>Seven (a.k.a. Se7en) (1995)</td>\n",
       "      <td>Mystery|Thriller</td>\n",
       "    </tr>\n",
       "    <tr>\n",
       "      <th>1015</th>\n",
       "      <td>474</td>\n",
       "      <td>47</td>\n",
       "      <td>serial killer</td>\n",
       "      <td>1137206452</td>\n",
       "      <td>Seven (a.k.a. Se7en) (1995)</td>\n",
       "      <td>Mystery|Thriller</td>\n",
       "    </tr>\n",
       "  </tbody>\n",
       "</table>\n",
       "</div>"
      ],
      "text/plain": [
       "      userId  movieId            tag   timestamp                        title  \\\n",
       "697      424       47        mystery  1457842470  Seven (a.k.a. Se7en) (1995)   \n",
       "698      424       47   twist ending  1457842458  Seven (a.k.a. Se7en) (1995)   \n",
       "1015     474       47  serial killer  1137206452  Seven (a.k.a. Se7en) (1995)   \n",
       "\n",
       "                genres  \n",
       "697   Mystery|Thriller  \n",
       "698   Mystery|Thriller  \n",
       "1015  Mystery|Thriller  "
      ]
     },
     "execution_count": 58,
     "metadata": {},
     "output_type": "execute_result"
    }
   ],
   "source": [
    "tags_df[tags_df['title'] == 'Seven (a.k.a. Se7en) (1995)']"
   ]
  },
  {
   "cell_type": "code",
   "execution_count": 55,
   "id": "39f86974",
   "metadata": {},
   "outputs": [
    {
     "data": {
      "text/html": [
       "<div>\n",
       "<style scoped>\n",
       "    .dataframe tbody tr th:only-of-type {\n",
       "        vertical-align: middle;\n",
       "    }\n",
       "\n",
       "    .dataframe tbody tr th {\n",
       "        vertical-align: top;\n",
       "    }\n",
       "\n",
       "    .dataframe thead th {\n",
       "        text-align: right;\n",
       "    }\n",
       "</style>\n",
       "<table border=\"1\" class=\"dataframe\">\n",
       "  <thead>\n",
       "    <tr style=\"text-align: right;\">\n",
       "      <th></th>\n",
       "      <th>userId</th>\n",
       "      <th>movieId</th>\n",
       "      <th>tag</th>\n",
       "      <th>timestamp</th>\n",
       "      <th>title</th>\n",
       "      <th>genres</th>\n",
       "    </tr>\n",
       "  </thead>\n",
       "  <tbody>\n",
       "  </tbody>\n",
       "</table>\n",
       "</div>"
      ],
      "text/plain": [
       "Empty DataFrame\n",
       "Columns: [userId, movieId, tag, timestamp, title, genres]\n",
       "Index: []"
      ]
     },
     "execution_count": 55,
     "metadata": {},
     "output_type": "execute_result"
    }
   ],
   "source": [
    "tags_df[tags_df['title'] == 'American Psycho (2000)']"
   ]
  },
  {
   "cell_type": "code",
   "execution_count": 56,
   "id": "30c7bd92",
   "metadata": {},
   "outputs": [
    {
     "data": {
      "text/html": [
       "<div>\n",
       "<style scoped>\n",
       "    .dataframe tbody tr th:only-of-type {\n",
       "        vertical-align: middle;\n",
       "    }\n",
       "\n",
       "    .dataframe tbody tr th {\n",
       "        vertical-align: top;\n",
       "    }\n",
       "\n",
       "    .dataframe thead th {\n",
       "        text-align: right;\n",
       "    }\n",
       "</style>\n",
       "<table border=\"1\" class=\"dataframe\">\n",
       "  <thead>\n",
       "    <tr style=\"text-align: right;\">\n",
       "      <th></th>\n",
       "      <th>userId</th>\n",
       "      <th>movieId</th>\n",
       "      <th>tag</th>\n",
       "      <th>timestamp</th>\n",
       "      <th>title</th>\n",
       "      <th>genres</th>\n",
       "    </tr>\n",
       "  </thead>\n",
       "  <tbody>\n",
       "  </tbody>\n",
       "</table>\n",
       "</div>"
      ],
      "text/plain": [
       "Empty DataFrame\n",
       "Columns: [userId, movieId, tag, timestamp, title, genres]\n",
       "Index: []"
      ]
     },
     "execution_count": 56,
     "metadata": {},
     "output_type": "execute_result"
    }
   ],
   "source": [
    "tags_df[tags_df['title'] == 'Book of Shadows: Blair Witch 2']\n"
   ]
  },
  {
   "cell_type": "code",
   "execution_count": null,
   "id": "29e38ebd",
   "metadata": {},
   "outputs": [],
   "source": []
  },
  {
   "cell_type": "markdown",
   "id": "a5b1d073",
   "metadata": {},
   "source": [
    "## Collaboartive recommender system\n",
    "- recommendation is based on users past interactions"
   ]
  },
  {
   "cell_type": "code",
   "execution_count": 87,
   "id": "057d216f",
   "metadata": {},
   "outputs": [
    {
     "data": {
      "text/html": [
       "<div>\n",
       "<style scoped>\n",
       "    .dataframe tbody tr th:only-of-type {\n",
       "        vertical-align: middle;\n",
       "    }\n",
       "\n",
       "    .dataframe tbody tr th {\n",
       "        vertical-align: top;\n",
       "    }\n",
       "\n",
       "    .dataframe thead th {\n",
       "        text-align: right;\n",
       "    }\n",
       "</style>\n",
       "<table border=\"1\" class=\"dataframe\">\n",
       "  <thead>\n",
       "    <tr style=\"text-align: right;\">\n",
       "      <th></th>\n",
       "      <th>movieId</th>\n",
       "      <th>userId</th>\n",
       "      <th>rating</th>\n",
       "      <th>title</th>\n",
       "    </tr>\n",
       "  </thead>\n",
       "  <tbody>\n",
       "    <tr>\n",
       "      <th>0</th>\n",
       "      <td>1</td>\n",
       "      <td>1</td>\n",
       "      <td>4.0</td>\n",
       "      <td>Toy Story (1995)</td>\n",
       "    </tr>\n",
       "    <tr>\n",
       "      <th>1</th>\n",
       "      <td>1</td>\n",
       "      <td>5</td>\n",
       "      <td>4.0</td>\n",
       "      <td>Toy Story (1995)</td>\n",
       "    </tr>\n",
       "    <tr>\n",
       "      <th>2</th>\n",
       "      <td>1</td>\n",
       "      <td>7</td>\n",
       "      <td>4.5</td>\n",
       "      <td>Toy Story (1995)</td>\n",
       "    </tr>\n",
       "    <tr>\n",
       "      <th>3</th>\n",
       "      <td>1</td>\n",
       "      <td>15</td>\n",
       "      <td>2.5</td>\n",
       "      <td>Toy Story (1995)</td>\n",
       "    </tr>\n",
       "    <tr>\n",
       "      <th>4</th>\n",
       "      <td>1</td>\n",
       "      <td>17</td>\n",
       "      <td>4.5</td>\n",
       "      <td>Toy Story (1995)</td>\n",
       "    </tr>\n",
       "    <tr>\n",
       "      <th>...</th>\n",
       "      <td>...</td>\n",
       "      <td>...</td>\n",
       "      <td>...</td>\n",
       "      <td>...</td>\n",
       "    </tr>\n",
       "    <tr>\n",
       "      <th>100831</th>\n",
       "      <td>193581</td>\n",
       "      <td>184</td>\n",
       "      <td>4.0</td>\n",
       "      <td>Black Butler: Book of the Atlantic (2017)</td>\n",
       "    </tr>\n",
       "    <tr>\n",
       "      <th>100832</th>\n",
       "      <td>193583</td>\n",
       "      <td>184</td>\n",
       "      <td>3.5</td>\n",
       "      <td>No Game No Life: Zero (2017)</td>\n",
       "    </tr>\n",
       "    <tr>\n",
       "      <th>100833</th>\n",
       "      <td>193585</td>\n",
       "      <td>184</td>\n",
       "      <td>3.5</td>\n",
       "      <td>Flint (2017)</td>\n",
       "    </tr>\n",
       "    <tr>\n",
       "      <th>100834</th>\n",
       "      <td>193587</td>\n",
       "      <td>184</td>\n",
       "      <td>3.5</td>\n",
       "      <td>Bungo Stray Dogs: Dead Apple (2018)</td>\n",
       "    </tr>\n",
       "    <tr>\n",
       "      <th>100835</th>\n",
       "      <td>193609</td>\n",
       "      <td>331</td>\n",
       "      <td>4.0</td>\n",
       "      <td>Andrew Dice Clay: Dice Rules (1991)</td>\n",
       "    </tr>\n",
       "  </tbody>\n",
       "</table>\n",
       "<p>100836 rows × 4 columns</p>\n",
       "</div>"
      ],
      "text/plain": [
       "        movieId  userId  rating                                      title\n",
       "0             1       1     4.0                           Toy Story (1995)\n",
       "1             1       5     4.0                           Toy Story (1995)\n",
       "2             1       7     4.5                           Toy Story (1995)\n",
       "3             1      15     2.5                           Toy Story (1995)\n",
       "4             1      17     4.5                           Toy Story (1995)\n",
       "...         ...     ...     ...                                        ...\n",
       "100831   193581     184     4.0  Black Butler: Book of the Atlantic (2017)\n",
       "100832   193583     184     3.5               No Game No Life: Zero (2017)\n",
       "100833   193585     184     3.5                               Flint (2017)\n",
       "100834   193587     184     3.5        Bungo Stray Dogs: Dead Apple (2018)\n",
       "100835   193609     331     4.0        Andrew Dice Clay: Dice Rules (1991)\n",
       "\n",
       "[100836 rows x 4 columns]"
      ]
     },
     "execution_count": 87,
     "metadata": {},
     "output_type": "execute_result"
    }
   ],
   "source": [
    "rating_user = df_ratings[['userId','movieId','title','rating']].groupby(by=['movieId','userId'], as_index=False )\\\n",
    ".agg({'rating':'mean','title':'first'})\n",
    "rating_user"
   ]
  },
  {
   "cell_type": "code",
   "execution_count": 90,
   "id": "a0186123",
   "metadata": {},
   "outputs": [
    {
     "data": {
      "text/plain": [
       "movieId    0\n",
       "userId     0\n",
       "rating     0\n",
       "title      0\n",
       "dtype: int64"
      ]
     },
     "execution_count": 90,
     "metadata": {},
     "output_type": "execute_result"
    }
   ],
   "source": [
    "rating_user.isnull().sum()"
   ]
  },
  {
   "cell_type": "code",
   "execution_count": 70,
   "id": "fc2bce99",
   "metadata": {},
   "outputs": [],
   "source": []
  },
  {
   "cell_type": "code",
   "execution_count": 93,
   "id": "d9e68459",
   "metadata": {},
   "outputs": [],
   "source": [
    "reader = Reader()\n",
    "data = Dataset.load_from_df(rating_user[['userId', 'movieId', 'rating']], reader)\n",
    "#trainset = data.build_full_trainset()"
   ]
  },
  {
   "cell_type": "code",
   "execution_count": 94,
   "id": "09427724",
   "metadata": {},
   "outputs": [
    {
     "name": "stdout",
     "output_type": "stream",
     "text": [
      "Grid Search...\n",
      "RMSE Best Parameters: {'n_epochs': 10, 'lr_all': 0.005}\n",
      "RMSE Best Score:      0.8901336504823513\n",
      "\n"
     ]
    }
   ],
   "source": [
    "raw_ratings = data.raw_ratings\n",
    "\n",
    "# shuffle ratings if you want\n",
    "random.shuffle(raw_ratings)\n",
    "\n",
    "# A = 90% of the data, B = 10% of the data\n",
    "threshold = int(0.8 * len(raw_ratings))\n",
    "train_raw_ratings = raw_ratings[:threshold]\n",
    "test_raw_ratings = raw_ratings[threshold:]\n",
    "\n",
    "data.raw_ratings = train_raw_ratings  # data is now the set train\n",
    "\n",
    "# Select your best algo with grid search.\n",
    "print(\"Grid Search...\")\n",
    "param_grid = {\"n_epochs\": [5, 10], \"lr_all\": [0.002, 0.005]}\n",
    "grid_search = GridSearchCV(SVD, param_grid, measures=[\"rmse\"], cv=3)\n",
    "grid_search.fit(data)\n",
    "\n",
    "print(f'RMSE Best Parameters: {grid_search.best_params[\"rmse\"]}')\n",
    "print(f'RMSE Best Score:      {grid_search.best_score[\"rmse\"]}\\n')"
   ]
  },
  {
   "cell_type": "code",
   "execution_count": null,
   "id": "974b745d",
   "metadata": {},
   "outputs": [],
   "source": []
  },
  {
   "cell_type": "code",
   "execution_count": 135,
   "id": "efb75929",
   "metadata": {},
   "outputs": [],
   "source": [
    "trainset = data.build_full_trainset()"
   ]
  },
  {
   "cell_type": "markdown",
   "id": "84b062ba",
   "metadata": {},
   "source": [
    "### Function recommendation_SVD:\n",
    "- takes as input the userdId and the get_recommend> number of recommendations required. \n",
    "- Default values userID=1, get_recommend =10\n",
    "- We will use Singular value decomposition (SVD) model\n"
   ]
  },
  {
   "cell_type": "code",
   "execution_count": 139,
   "id": "d0269880",
   "metadata": {},
   "outputs": [],
   "source": [
    "# SVD\n",
    "\n",
    "def recommendation_SVD(userID=1, get_recommend =10):\n",
    "       \n",
    "    # predict rating for all pairs of users & items that are not in the trainset\n",
    "    \n",
    "    \n",
    "    model = SVD(n_factors=50, n_epochs=10, lr_all=0.005, reg_all= 0.2)\n",
    "    model.fit(trainset)\n",
    "    testset = trainset.build_anti_testset()\n",
    "    predictions = model.test(testset)\n",
    "    predictions_df = pd.DataFrame(predictions)\n",
    "    \n",
    "    # get the top get_recommend predictions for userID\n",
    "    \n",
    "    predictions_userID = predictions_df[predictions_df['uid'] == userID].\\\n",
    "                         sort_values(by=\"est\", ascending = False).head(get_recommend)\n",
    "    \n",
    "    recommendations = []\n",
    "    recommendations = Movies.loc[Movies['movieId'].isin(list(predictions_userID['iid']))]['title']\n",
    "    recommendations\n",
    "    \n",
    "    return(recommendations)"
   ]
  },
  {
   "cell_type": "code",
   "execution_count": 140,
   "id": "0ae5b524",
   "metadata": {},
   "outputs": [
    {
     "data": {
      "text/plain": [
       "46                             Usual Suspects, The (1995)\n",
       "602     Dr. Strangelove or: How I Learned to Stop Worr...\n",
       "659                                 Godfather, The (1972)\n",
       "686                                    Rear Window (1954)\n",
       "863                Monty Python and the Holy Grail (1975)\n",
       "903     Good, the Bad and the Ugly, The (Buono, il bru...\n",
       "906                             Lawrence of Arabia (1962)\n",
       "914                                     Goodfellas (1990)\n",
       "922                        Godfather: Part II, The (1974)\n",
       "3622    Amelie (Fabuleux destin d'Amélie Poulain, Le) ...\n",
       "Name: title, dtype: object"
      ]
     },
     "execution_count": 140,
     "metadata": {},
     "output_type": "execute_result"
    }
   ],
   "source": [
    "### Finding top 10 movie recommendation for userid 6\n",
    "recommendations = recommendation_SVD(6,10)\n",
    "recommendations"
   ]
  },
  {
   "cell_type": "code",
   "execution_count": null,
   "id": "d179a1f5",
   "metadata": {},
   "outputs": [],
   "source": []
  }
 ],
 "metadata": {
  "kernelspec": {
   "display_name": "Python 3 (ipykernel)",
   "language": "python",
   "name": "python3"
  },
  "language_info": {
   "codemirror_mode": {
    "name": "ipython",
    "version": 3
   },
   "file_extension": ".py",
   "mimetype": "text/x-python",
   "name": "python",
   "nbconvert_exporter": "python",
   "pygments_lexer": "ipython3",
   "version": "3.9.7"
  }
 },
 "nbformat": 4,
 "nbformat_minor": 5
}
